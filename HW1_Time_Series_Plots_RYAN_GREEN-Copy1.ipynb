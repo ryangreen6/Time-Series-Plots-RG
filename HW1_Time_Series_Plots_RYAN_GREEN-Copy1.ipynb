{
 "cells": [
  {
   "cell_type": "markdown",
   "id": "d1f90dc5-30a1-4d73-aaeb-e0a5429e3011",
   "metadata": {},
   "source": [
    "Link to my repository:\n",
    "\n",
    "https://github.com/ryangreen6/Time-Series-Plots-RG\n",
    "\n"
   ]
  },
  {
   "cell_type": "code",
   "execution_count": 1,
   "id": "7cb59df2-e474-40a2-a50b-56823ebaf9c9",
   "metadata": {
    "tags": []
   },
   "outputs": [],
   "source": [
    "# Import necessary packages\n",
    "\n",
    "import xarray as xr\n",
    "import matplotlib.pyplot as plt\n",
    "import intake\n",
    "import s3fs\n",
    "import pandas as pd\n",
    "import numpy as np"
   ]
  },
  {
   "cell_type": "code",
   "execution_count": 2,
   "id": "6c224556-2855-4778-9346-67135b6d8830",
   "metadata": {
    "tags": []
   },
   "outputs": [],
   "source": [
    "# Open the CMIP6 data catalog, store as a variable\n",
    "catalog = intake.open_esm_datastore('https://cmip6-pds.s3.amazonaws.com/pangeo-cmip6.json')"
   ]
  },
  {
   "cell_type": "code",
   "execution_count": 3,
   "id": "0ae86f12-ae29-493e-a642-814f6ed9b59b",
   "metadata": {
    "tags": []
   },
   "outputs": [],
   "source": [
    "# Specify search terms to query catalog for CanESM5 data\n",
    "# activity_id: which project do you want? CMIP = historical data, ScenarioMIP = future projections\n",
    "activity_ids = ['ScenarioMIP', 'CMIP'] \n",
    "\n",
    "# source_id: which model do you want? \n",
    "source_id = ['CanESM5']\n",
    "\n",
    "# experiment_id: what experimental configuration do you want? Here we want historical and the four main SSPs\n",
    "experiment_ids = ['historical', 'ssp245', 'ssp585']\n",
    "\n",
    "# member_id: which ensemble member do you want? Here we want r10i1p1f1\n",
    "member_id = 'r10i1p1f1'\n",
    "\n",
    "# table_id: which part of the Earth system and time resolution do you want? Here we want monthly atmosphere data\n",
    "table_id = 'Amon' \n",
    "\n",
    "# variable_id: which climate variable do you want? Here we want surface air temperature\n",
    "variable_id = 'tas' "
   ]
  },
  {
   "cell_type": "code",
   "execution_count": 4,
   "id": "c195ddfe-b447-431c-b129-133bde3668b3",
   "metadata": {
    "tags": []
   },
   "outputs": [],
   "source": [
    "# source_id: Second model\n",
    "source_id_2 = ['MIROC6']\n",
    "\n",
    "# member_id: \n",
    "member_id_2 = 'r6i1p1f1'\n",
    "\n",
    "# table_id: \n",
    "table_id_2 = 'Omon' \n",
    "\n",
    "# variable_id: sea surface temperature\n",
    "variable_id_2 = 'tos' "
   ]
  },
  {
   "cell_type": "code",
   "execution_count": 5,
   "id": "4472b0ec-26aa-4aa4-bc88-0b468c98c2c0",
   "metadata": {
    "tags": []
   },
   "outputs": [
    {
     "data": {
      "text/html": [
       "<div>\n",
       "<style scoped>\n",
       "    .dataframe tbody tr th:only-of-type {\n",
       "        vertical-align: middle;\n",
       "    }\n",
       "\n",
       "    .dataframe tbody tr th {\n",
       "        vertical-align: top;\n",
       "    }\n",
       "\n",
       "    .dataframe thead th {\n",
       "        text-align: right;\n",
       "    }\n",
       "</style>\n",
       "<table border=\"1\" class=\"dataframe\">\n",
       "  <thead>\n",
       "    <tr style=\"text-align: right;\">\n",
       "      <th></th>\n",
       "      <th>activity_id</th>\n",
       "      <th>institution_id</th>\n",
       "      <th>source_id</th>\n",
       "      <th>experiment_id</th>\n",
       "      <th>member_id</th>\n",
       "      <th>table_id</th>\n",
       "      <th>variable_id</th>\n",
       "      <th>grid_label</th>\n",
       "      <th>zstore</th>\n",
       "      <th>dcpp_init_year</th>\n",
       "      <th>version</th>\n",
       "    </tr>\n",
       "  </thead>\n",
       "  <tbody>\n",
       "    <tr>\n",
       "      <th>0</th>\n",
       "      <td>CMIP</td>\n",
       "      <td>CCCma</td>\n",
       "      <td>CanESM5</td>\n",
       "      <td>historical</td>\n",
       "      <td>r10i1p1f1</td>\n",
       "      <td>Amon</td>\n",
       "      <td>tas</td>\n",
       "      <td>gn</td>\n",
       "      <td>s3://cmip6-pds/CMIP6/CMIP/CCCma/CanESM5/histor...</td>\n",
       "      <td>NaN</td>\n",
       "      <td>20190429</td>\n",
       "    </tr>\n",
       "    <tr>\n",
       "      <th>1</th>\n",
       "      <td>ScenarioMIP</td>\n",
       "      <td>CCCma</td>\n",
       "      <td>CanESM5</td>\n",
       "      <td>ssp585</td>\n",
       "      <td>r10i1p1f1</td>\n",
       "      <td>Amon</td>\n",
       "      <td>tas</td>\n",
       "      <td>gn</td>\n",
       "      <td>s3://cmip6-pds/CMIP6/ScenarioMIP/CCCma/CanESM5...</td>\n",
       "      <td>NaN</td>\n",
       "      <td>20190429</td>\n",
       "    </tr>\n",
       "    <tr>\n",
       "      <th>2</th>\n",
       "      <td>ScenarioMIP</td>\n",
       "      <td>CCCma</td>\n",
       "      <td>CanESM5</td>\n",
       "      <td>ssp245</td>\n",
       "      <td>r10i1p1f1</td>\n",
       "      <td>Amon</td>\n",
       "      <td>tas</td>\n",
       "      <td>gn</td>\n",
       "      <td>s3://cmip6-pds/CMIP6/ScenarioMIP/CCCma/CanESM5...</td>\n",
       "      <td>NaN</td>\n",
       "      <td>20190429</td>\n",
       "    </tr>\n",
       "  </tbody>\n",
       "</table>\n",
       "</div>"
      ],
      "text/plain": [
       "   activity_id institution_id source_id experiment_id  member_id table_id  \\\n",
       "0         CMIP          CCCma   CanESM5    historical  r10i1p1f1     Amon   \n",
       "1  ScenarioMIP          CCCma   CanESM5        ssp585  r10i1p1f1     Amon   \n",
       "2  ScenarioMIP          CCCma   CanESM5        ssp245  r10i1p1f1     Amon   \n",
       "\n",
       "  variable_id grid_label                                             zstore  \\\n",
       "0         tas         gn  s3://cmip6-pds/CMIP6/CMIP/CCCma/CanESM5/histor...   \n",
       "1         tas         gn  s3://cmip6-pds/CMIP6/ScenarioMIP/CCCma/CanESM5...   \n",
       "2         tas         gn  s3://cmip6-pds/CMIP6/ScenarioMIP/CCCma/CanESM5...   \n",
       "\n",
       "   dcpp_init_year   version  \n",
       "0             NaN  20190429  \n",
       "1             NaN  20190429  \n",
       "2             NaN  20190429  "
      ]
     },
     "metadata": {},
     "output_type": "display_data"
    }
   ],
   "source": [
    "# Search through catalog, store results in \"res\" variable\n",
    "res = catalog.search(activity_id = activity_ids, \n",
    "                     source_id = source_id, \n",
    "                     experiment_id = experiment_ids, \n",
    "                     member_id = member_id, \n",
    "                     table_id = table_id, \n",
    "                     variable_id = variable_id)\n",
    "\n",
    "res_2 = catalog.search(activity_id = activity_ids, \n",
    "                       source_id = source_id_2, \n",
    "                       experiment_id = experiment_ids,\n",
    "                       member_id = member_id_2, \n",
    "                       table_id = table_id_2, \n",
    "                       variable_id = variable_id_2)\n",
    "\n",
    "# Display data frame associated with results\n",
    "display(res.df)"
   ]
  },
  {
   "cell_type": "code",
   "execution_count": 6,
   "id": "77ade09e-d7ec-4e47-bd57-38f30f68ea5b",
   "metadata": {
    "tags": []
   },
   "outputs": [],
   "source": [
    "# Read in the historical data file\n",
    "hist_data = xr.open_zarr(res.df['zstore'][0], storage_options={'anon': True})\n",
    "hist_data_2 = xr.open_zarr(res_2.df['zstore'][0], storage_options={'anon': True})\n",
    "\n",
    "# Read in the SSP245 data file\n",
    "ssp245_data = xr.open_zarr(res.df['zstore'][1], storage_options={'anon': True})\n",
    "ssp245_data_2 = xr.open_zarr(res_2.df['zstore'][1], storage_options={'anon': True})\n",
    "# Read in SSP585 file\n",
    "ssp585_data = xr.open_zarr(res.df['zstore'][2], storage_options={'anon': True})\n",
    "ssp585_data_2 = xr.open_zarr(res_2.df['zstore'][2], storage_options={'anon': True})"
   ]
  },
  {
   "cell_type": "code",
   "execution_count": 7,
   "id": "dc61dac9-11d2-408f-91b3-44951392ec35",
   "metadata": {
    "tags": []
   },
   "outputs": [],
   "source": [
    "# Concatenate historical and future projection data\n",
    "canesm5_245 = xr.concat([hist_data, ssp245_data], dim=\"time\")\n",
    "miroc_245 = xr.concat([hist_data_2, ssp245_data_2], dim=\"time\")\n",
    "\n",
    "canesm5_585 = xr.concat([hist_data, ssp585_data], dim=\"time\")\n",
    "miroc_585 = xr.concat([hist_data_2, ssp585_data_2], dim=\"time\")"
   ]
  },
  {
   "cell_type": "code",
   "execution_count": 8,
   "id": "fc433e5d-6c42-4b73-865e-a0c06f56fecc",
   "metadata": {
    "tags": []
   },
   "outputs": [],
   "source": [
    "# Convert time to datetime64 format\n",
    "time_245 = canesm5_245.time.astype('datetime64[ns]')\n",
    "time_245_2 = miroc_245.time.astype('datetime64[ns]')\n",
    "\n",
    "time_585 = canesm5_585.time.astype('datetime64[ns]')\n",
    "time_585_2 = miroc_585.time.astype('datetime64[ns]')"
   ]
  },
  {
   "cell_type": "code",
   "execution_count": 9,
   "id": "21add6b1-f219-4673-adcc-888c98e950ce",
   "metadata": {
    "tags": []
   },
   "outputs": [],
   "source": [
    "# Define min/max bounds for region of interest (Aegean Sea)\n",
    "lat_min, lat_max = 34, 42\n",
    "lon_min, lon_max = 19, 30\n",
    "\n",
    "# Define logical mask: True when lat/lon inside the valid ranges, False elsewhere\n",
    "tas_aeg_lat_245 = (canesm5_245.lat >= lat_min) & (canesm5_245.lat <= lat_max)\n",
    "tas_aeg_lon_245 = (canesm5_245.lon >= lon_min) & (canesm5_245.lon <= lon_max)\n",
    "\n",
    "# Find points where the mask value is True, drop all other points\n",
    "tas_aeg_245 = canesm5_245.where(tas_aeg_lat_245 & tas_aeg_lon_245, drop=True)\n",
    "\n",
    "# Average over lat, lon dimensions to get a time series\n",
    "tas_aeg_245 = tas_aeg_245.mean(dim=[\"lat\", \"lon\"])"
   ]
  },
  {
   "cell_type": "code",
   "execution_count": 10,
   "id": "f0ecd785-18d1-44ef-98d7-6649d31d6000",
   "metadata": {
    "tags": []
   },
   "outputs": [
    {
     "ename": "ValueError",
     "evalue": "Dataset does not contain the dimensions: ['lon', 'lat']",
     "output_type": "error",
     "traceback": [
      "\u001b[0;31m---------------------------------------------------------------------------\u001b[0m",
      "\u001b[0;31mValueError\u001b[0m                                Traceback (most recent call last)",
      "Cell \u001b[0;32mIn[10], line 8\u001b[0m\n\u001b[1;32m      5\u001b[0m tas_aeg_245_m \u001b[38;5;241m=\u001b[39m miroc_245\u001b[38;5;241m.\u001b[39mwhere(tas_aeg_lat_245_m \u001b[38;5;241m&\u001b[39m tas_aeg_lon_245_m, drop\u001b[38;5;241m=\u001b[39m\u001b[38;5;28;01mTrue\u001b[39;00m)\n\u001b[1;32m      7\u001b[0m \u001b[38;5;66;03m# Average over lat, lon dimensions to get a time series\u001b[39;00m\n\u001b[0;32m----> 8\u001b[0m tas_aeg_245 \u001b[38;5;241m=\u001b[39m \u001b[43mtas_aeg_245_m\u001b[49m\u001b[38;5;241;43m.\u001b[39;49m\u001b[43mmean\u001b[49m\u001b[43m(\u001b[49m\u001b[43mdim\u001b[49m\u001b[38;5;241;43m=\u001b[39;49m\u001b[43m[\u001b[49m\u001b[38;5;124;43m\"\u001b[39;49m\u001b[38;5;124;43mlat\u001b[39;49m\u001b[38;5;124;43m\"\u001b[39;49m\u001b[43m,\u001b[49m\u001b[43m \u001b[49m\u001b[38;5;124;43m\"\u001b[39;49m\u001b[38;5;124;43mlon\u001b[39;49m\u001b[38;5;124;43m\"\u001b[39;49m\u001b[43m]\u001b[49m\u001b[43m)\u001b[49m\n",
      "File \u001b[0;32m~/.local/lib/python3.8/site-packages/xarray/core/_aggregations.py:507\u001b[0m, in \u001b[0;36mDatasetAggregations.mean\u001b[0;34m(self, dim, skipna, keep_attrs, **kwargs)\u001b[0m\n\u001b[1;32m    425\u001b[0m \u001b[38;5;28;01mdef\u001b[39;00m \u001b[38;5;21mmean\u001b[39m(\n\u001b[1;32m    426\u001b[0m     \u001b[38;5;28mself\u001b[39m,\n\u001b[1;32m    427\u001b[0m     dim: Dims \u001b[38;5;241m=\u001b[39m \u001b[38;5;28;01mNone\u001b[39;00m,\n\u001b[0;32m   (...)\u001b[0m\n\u001b[1;32m    431\u001b[0m     \u001b[38;5;241m*\u001b[39m\u001b[38;5;241m*\u001b[39mkwargs: Any,\n\u001b[1;32m    432\u001b[0m ) \u001b[38;5;241m-\u001b[39m\u001b[38;5;241m>\u001b[39m Dataset:\n\u001b[1;32m    433\u001b[0m \u001b[38;5;250m    \u001b[39m\u001b[38;5;124;03m\"\"\"\u001b[39;00m\n\u001b[1;32m    434\u001b[0m \u001b[38;5;124;03m    Reduce this Dataset's data by applying ``mean`` along some dimension(s).\u001b[39;00m\n\u001b[1;32m    435\u001b[0m \n\u001b[0;32m   (...)\u001b[0m\n\u001b[1;32m    505\u001b[0m \u001b[38;5;124;03m        da       float64 nan\u001b[39;00m\n\u001b[1;32m    506\u001b[0m \u001b[38;5;124;03m    \"\"\"\u001b[39;00m\n\u001b[0;32m--> 507\u001b[0m     \u001b[38;5;28;01mreturn\u001b[39;00m \u001b[38;5;28;43mself\u001b[39;49m\u001b[38;5;241;43m.\u001b[39;49m\u001b[43mreduce\u001b[49m\u001b[43m(\u001b[49m\n\u001b[1;32m    508\u001b[0m \u001b[43m        \u001b[49m\u001b[43mduck_array_ops\u001b[49m\u001b[38;5;241;43m.\u001b[39;49m\u001b[43mmean\u001b[49m\u001b[43m,\u001b[49m\n\u001b[1;32m    509\u001b[0m \u001b[43m        \u001b[49m\u001b[43mdim\u001b[49m\u001b[38;5;241;43m=\u001b[39;49m\u001b[43mdim\u001b[49m\u001b[43m,\u001b[49m\n\u001b[1;32m    510\u001b[0m \u001b[43m        \u001b[49m\u001b[43mskipna\u001b[49m\u001b[38;5;241;43m=\u001b[39;49m\u001b[43mskipna\u001b[49m\u001b[43m,\u001b[49m\n\u001b[1;32m    511\u001b[0m \u001b[43m        \u001b[49m\u001b[43mnumeric_only\u001b[49m\u001b[38;5;241;43m=\u001b[39;49m\u001b[38;5;28;43;01mTrue\u001b[39;49;00m\u001b[43m,\u001b[49m\n\u001b[1;32m    512\u001b[0m \u001b[43m        \u001b[49m\u001b[43mkeep_attrs\u001b[49m\u001b[38;5;241;43m=\u001b[39;49m\u001b[43mkeep_attrs\u001b[49m\u001b[43m,\u001b[49m\n\u001b[1;32m    513\u001b[0m \u001b[43m        \u001b[49m\u001b[38;5;241;43m*\u001b[39;49m\u001b[38;5;241;43m*\u001b[39;49m\u001b[43mkwargs\u001b[49m\u001b[43m,\u001b[49m\n\u001b[1;32m    514\u001b[0m \u001b[43m    \u001b[49m\u001b[43m)\u001b[49m\n",
      "File \u001b[0;32m~/.local/lib/python3.8/site-packages/xarray/core/dataset.py:5861\u001b[0m, in \u001b[0;36mDataset.reduce\u001b[0;34m(self, func, dim, keep_attrs, keepdims, numeric_only, **kwargs)\u001b[0m\n\u001b[1;32m   5859\u001b[0m missing_dimensions \u001b[38;5;241m=\u001b[39m [d \u001b[38;5;28;01mfor\u001b[39;00m d \u001b[38;5;129;01min\u001b[39;00m dims \u001b[38;5;28;01mif\u001b[39;00m d \u001b[38;5;129;01mnot\u001b[39;00m \u001b[38;5;129;01min\u001b[39;00m \u001b[38;5;28mself\u001b[39m\u001b[38;5;241m.\u001b[39mdims]\n\u001b[1;32m   5860\u001b[0m \u001b[38;5;28;01mif\u001b[39;00m missing_dimensions:\n\u001b[0;32m-> 5861\u001b[0m     \u001b[38;5;28;01mraise\u001b[39;00m \u001b[38;5;167;01mValueError\u001b[39;00m(\n\u001b[1;32m   5862\u001b[0m         \u001b[38;5;124mf\u001b[39m\u001b[38;5;124m\"\u001b[39m\u001b[38;5;124mDataset does not contain the dimensions: \u001b[39m\u001b[38;5;132;01m{\u001b[39;00mmissing_dimensions\u001b[38;5;132;01m}\u001b[39;00m\u001b[38;5;124m\"\u001b[39m\n\u001b[1;32m   5863\u001b[0m     )\n\u001b[1;32m   5865\u001b[0m \u001b[38;5;28;01mif\u001b[39;00m keep_attrs \u001b[38;5;129;01mis\u001b[39;00m \u001b[38;5;28;01mNone\u001b[39;00m:\n\u001b[1;32m   5866\u001b[0m     keep_attrs \u001b[38;5;241m=\u001b[39m _get_keep_attrs(default\u001b[38;5;241m=\u001b[39m\u001b[38;5;28;01mFalse\u001b[39;00m)\n",
      "\u001b[0;31mValueError\u001b[0m: Dataset does not contain the dimensions: ['lon', 'lat']"
     ]
    }
   ],
   "source": [
    "tas_aeg_lat_245_m = (miroc_245.latitude >= lat_min) & (miroc_245.latitude <= lat_max)\n",
    "tas_aeg_lon_245_m = (miroc_245.longitude >= lon_min) & (miroc_245.longitude <= lon_max)\n",
    "\n",
    "# Find points where the mask value is True, drop all other points\n",
    "tas_aeg_245_m = miroc_245.where(tas_aeg_lat_245_m & tas_aeg_lon_245_m, drop=True)\n",
    "\n",
    "# Average over lat, lon dimensions to get a time series\n",
    "tas_aeg_245 = tas_aeg_245_m.mean(dim=[\"lat\", \"lon\"])"
   ]
  },
  {
   "cell_type": "code",
   "execution_count": null,
   "id": "dbb1583c-7326-4b91-8261-2f90ffa91c7d",
   "metadata": {
    "tags": []
   },
   "outputs": [],
   "source": [
    "tas_aeg_lat_245_2 = (canesm5_245_2.latitude >= lat_min) & (canesm5_245_2.latitude <= lat_max)\n",
    "tas_aeg_lon_245_2 = (canesm5_245_2.longitude >= lon_min) & (canesm5_245_2.longitude <= lon_max)\n",
    "\n",
    "# Find points where the mask value is True, drop all other points\n",
    "tas_aeg_245_2 = canesm5_245_2.where(tas_aeg_lat_245_2 & tas_aeg_lon_245_2, drop=True)\n",
    "\n",
    "# Average over lat, lon dimensions to get a time series\n",
    "tas_aeg_245_2 = tas_aeg_245_2.mean(dim=[\"latitude\", \"longitude\"])"
   ]
  },
  {
   "cell_type": "code",
   "execution_count": null,
   "id": "5aeccad6-e1bc-45fe-afb9-1250e266872f",
   "metadata": {
    "tags": []
   },
   "outputs": [],
   "source": [
    "tas_aeg_lat_585_2 = (canesm5_585_2.latitude >= lat_min) & (canesm5_585_2.latitude <= lat_max)\n",
    "tas_aeg_lon_585_2 = (canesm5_585_2.longitude >= lon_min) & (canesm5_585_2.longitude <= lon_max)\n",
    "\n",
    "# Find points where the mask value is True, drop all other points\n",
    "tas_aeg_585_2 = canesm5_585_2.where(tas_aeg_lat_585_2 & tas_aeg_lon_585_2, drop=True)\n",
    "\n",
    "# Average over lat, lon dimensions to get a time series\n",
    "tas_aeg_585_2 = tas_aeg_585_2.mean(dim=[\"latitude\", \"longitude\"])"
   ]
  },
  {
   "cell_type": "code",
   "execution_count": null,
   "id": "ca17320e-b992-40d3-b3ad-f1e025f8a626",
   "metadata": {},
   "outputs": [],
   "source": []
  },
  {
   "cell_type": "markdown",
   "id": "61afb727-af1e-4847-8ce2-f54df12d019a",
   "metadata": {},
   "source": [
    "For this assignment I chose the Aegean Sea. This is a Medterranean climate characterized by hot summers and mild, wet winters. Vegetation is mainly medterranean forest, sparse woodlands, and scrubland.\n",
    "\n",
    "Climate change impacts that could effect this region are drought due to changed precipitation patterns, marine heat waves, and of course sea level rise. "
   ]
  },
  {
   "cell_type": "code",
   "execution_count": null,
   "id": "db01d18e-3b6d-43c7-8af1-23a5516bd54e",
   "metadata": {
    "tags": []
   },
   "outputs": [],
   "source": [
    "# Checking contents of the xarray\n",
    "tas_aeg"
   ]
  },
  {
   "cell_type": "code",
   "execution_count": null,
   "id": "33ed33f5-10d0-4527-88d6-9d39bbb77b28",
   "metadata": {
    "tags": []
   },
   "outputs": [],
   "source": [
    "# Plotting temperatures\n",
    "fig, ax = plt.subplots(figsize=(20, 8))\n",
    "ax.plot(time, tas_aeg.tas, label='Near-Surface Air Temperature', color='b')\n",
    "ax.set_title(\"Time Series of Aegean Sea Near-Surface Air Temperature (1850 to 2100) \", fontsize=20)\n",
    "ax.set_xlabel(\"Time\", fontsize=20)\n",
    "ax.set_ylabel(\"Temperature (K)\", fontsize=20)\n",
    "ax.legend(fontsize=20)\n",
    "ax.grid()\n",
    "plt.show()"
   ]
  },
  {
   "cell_type": "code",
   "execution_count": null,
   "id": "7d7fb2b6-b2b4-40c5-8d0f-4c690f53ca15",
   "metadata": {},
   "outputs": [],
   "source": [
    "# Select a time period of interest -- two time periods for this assignment\n",
    "tas_aeg_2100 = tas_aeg.sel(time=slice('1850-01-16','2100-12-31'))\n",
    "tas_aeg_2015 = tas_aeg.sel(time=slice('1850-01-16','2015-12-31'))"
   ]
  },
  {
   "cell_type": "code",
   "execution_count": null,
   "id": "fe4c1851-d0b2-44c7-b0eb-43527f05b769",
   "metadata": {
    "tags": []
   },
   "outputs": [],
   "source": [
    "# Dropping the time_bnds variable \n",
    "tas_aeg_2100 = tas_aeg_2100.drop_vars(\"time_bnds\")\n",
    "tas_aeg_2015 = tas_aeg_2015.drop_vars(\"time_bnds\")"
   ]
  },
  {
   "cell_type": "code",
   "execution_count": null,
   "id": "7e184d79-1004-4654-85a0-de9605c3b519",
   "metadata": {
    "tags": []
   },
   "outputs": [],
   "source": [
    "# confirming dropped variable\n",
    "tas_aeg_2015\n",
    "tas_aeg_2100"
   ]
  },
  {
   "cell_type": "code",
   "execution_count": null,
   "id": "ea524667-7fd5-43b6-b8ee-0786efbe8423",
   "metadata": {
    "tags": []
   },
   "outputs": [],
   "source": [
    "# calculating annual mean \n",
    "annual_mean_2100 = tas_aeg_2100.groupby('time.year').mean()\n",
    "annual_mean_2015 = tas_aeg_2015.groupby('time.year').mean()"
   ]
  },
  {
   "cell_type": "code",
   "execution_count": null,
   "id": "6c18189f-acb5-40db-aa00-23f30482e55b",
   "metadata": {
    "tags": []
   },
   "outputs": [],
   "source": [
    "# converting to celsius from Kelvin\n",
    "annual_mean_2100 = annual_mean_2100 - 273.15\n",
    "annual_mean_2015 = annual_mean_2015 - 273.15"
   ]
  },
  {
   "cell_type": "code",
   "execution_count": null,
   "id": "59f08b82-7a9a-45bb-b4f4-215095fe3cf6",
   "metadata": {
    "tags": []
   },
   "outputs": [],
   "source": [
    "# Adding this cell to note that I wasn't able to get this chunk from the tutorial working:\n",
    "\n",
    "# # Calculate best-fit parameters for the linear polynomial fit of temperature to year\n",
    "# x = np.polyfit(annual_mean.year, annual_mean, 1)\n",
    "\n",
    "# # Generate a polynomial object using those best-fit parameters\n",
    "# trend_line = np.poly1d(x)  \n",
    "\n",
    "\n",
    "# The cell below is my workaround"
   ]
  },
  {
   "cell_type": "code",
   "execution_count": null,
   "id": "133e1fa0-8d2a-4485-936e-91ab0bbfe27d",
   "metadata": {},
   "outputs": [],
   "source": [
    "# Pull out the DataArrays (variable name “tas”)\n",
    "da_2100 = annual_mean_2100[\"tas\"]\n",
    "da_2015 = annual_mean_2015[\"tas\"]\n",
    "\n",
    "# Grab arrays for 2100 and 2015\n",
    "years_2100 = da_2100[\"year\"].values\n",
    "temps_2100 = da_2100.values\n",
    "years_2015 = da_2015[\"year\"].values\n",
    "temps_2015 = da_2015.values\n",
    "\n",
    "# Fitting separate trend lines\n",
    "coeffs_2100     = np.polyfit(years_2100, temps_2100, 1)\n",
    "trend_line_2100 = np.poly1d(coeffs_2100)\n",
    "\n",
    "coeffs_2015     = np.polyfit(years_2015, temps_2015, 1)\n",
    "trend_line_2015 = np.poly1d(coeffs_2015)\n",
    "\n",
    "# evaluate the fits\n",
    "fit_2100 = trend_line_2100(years_2100)\n",
    "fit_2015 = trend_line_2015(years_2015)"
   ]
  },
  {
   "cell_type": "code",
   "execution_count": null,
   "id": "44fd8c69-77f8-4c3e-8436-479947ba9f03",
   "metadata": {},
   "outputs": [],
   "source": [
    "# plotting the two time series and their trend lines\n",
    "\n",
    "fig, ax = plt.subplots(figsize=(16, 3.5))\n",
    "ax.plot(years_2100, temps_2100, label=\"Annual Average Temperature\")\n",
    "ax.plot(years_2100, fit_2100, linestyle=\"--\", label=f\"Trend Line 1850-2100 (Slope = {coeffs_2100[0]:.4f} °C/year)\")\n",
    "ax.plot(years_2015, fit_2015, linestyle=\"-\", label=f\"Trend Line 1850-2015 (Slope = {coeffs_2015[0]:.4f} °C/year)\")\n",
    "ax.set_title(\"Regional Average Surface Air Temp of the Aegean Sea (1850 to 2100)\")\n",
    "ax.set_xlabel(\"Year\")\n",
    "ax.set_ylabel(\"Temperature (°C)\")\n",
    "ax.legend()\n",
    "plt.show()"
   ]
  },
  {
   "cell_type": "markdown",
   "id": "0f577c29-743b-48ba-9979-0271fb58cffa",
   "metadata": {},
   "source": [
    "Over these two time periods, the temperature is certainly changing. From 1850 to 2015, the change is relatively insignificant. However from 1850 to the projected temperatures in 2100, the change is extremely significant. \n",
    "\n",
    "The results of this plot are alarming, to say the least. This model indicates a change of nearly 2 degrees celsius by 2050, which is significant especially in a region with mild Mediterranean weather. Other regions could experience much higher increases in temperature I would imagine. \n",
    "\n",
    "This increase in temperature would effect ocean life like kelp would be effected, and probably trigger mass die-offs. Desertification may also be a concern; 50% of the land area of Crete is already at risk of desertification. \n",
    "\n",
    "As for human systems, this temperature increase would effect crop yields for crops like olives, grapes, and citrus, and would likely shift their ideal growing regions further north up the Adriatic. Drought would also effect these yields, and would directly effect potable water availability for populated areas. Heat waves could also effect tourism; just last summer several tourists died due to the heat on the islands (although I believe these guys were hiking without water, always bring water). Islands would be effected by sea level rise, and coastal populations may be displaced. Low elevation archaeological/heritage sites could also be effected by sea level rise."
   ]
  },
  {
   "cell_type": "code",
   "execution_count": null,
   "id": "96c20d96-6700-41ac-b62a-fb0cd2401ac4",
   "metadata": {},
   "outputs": [],
   "source": []
  },
  {
   "cell_type": "code",
   "execution_count": null,
   "id": "48752fa4-6cd0-4817-b8f2-520a7d7e32ae",
   "metadata": {},
   "outputs": [],
   "source": []
  }
 ],
 "metadata": {
  "kernelspec": {
   "display_name": "Anaconda 3 (EDS296)",
   "language": "python",
   "name": "eds196-stevenson"
  },
  "language_info": {
   "codemirror_mode": {
    "name": "ipython",
    "version": 3
   },
   "file_extension": ".py",
   "mimetype": "text/x-python",
   "name": "python",
   "nbconvert_exporter": "python",
   "pygments_lexer": "ipython3",
   "version": "3.8.18"
  }
 },
 "nbformat": 4,
 "nbformat_minor": 5
}
